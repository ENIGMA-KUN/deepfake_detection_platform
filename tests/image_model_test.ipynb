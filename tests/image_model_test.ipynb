{
 "cells": [
  {
   "cell_type": "markdown",
   "metadata": {},
   "source": [
    "# Deepfake Detection Platform - Image Models Test\n",
    "\n",
    "This notebook tests all image detection models and the Visual Sentinel Singularity Mode."
   ]
  },
  {
   "cell_type": "code",
   "execution_count": 11,
   "metadata": {},
   "outputs": [],
   "source": [
    "# Setup imports\n",
    "import os\n",
    "import sys\n",
    "import logging\n",
    "import numpy as np\n",
    "import matplotlib.pyplot as plt\n",
    "from PIL import Image\n",
    "import torch\n",
    "\n",
    "# Add the project root to the path\n",
    "project_root = os.path.abspath(os.path.join(os.path.dirname(\"__file__\"), '..'))\n",
    "sys.path.insert(0, project_root)\n",
    "\n",
    "# Configure logging\n",
    "logging.basicConfig(level=logging.INFO, format='%(asctime)s - %(name)s - %(levelname)s - %(message)s')\n",
    "logger = logging.getLogger(__name__)"
   ]
  },
  {
   "cell_type": "code",
   "execution_count": 12,
   "metadata": {},
   "outputs": [
    {
     "name": "stdout",
     "output_type": "stream",
     "text": [
      "CUDA available: False\n"
     ]
    }
   ],
   "source": [
    "# Check CUDA availability\n",
    "print(f\"CUDA available: {torch.cuda.is_available()}\")\n",
    "if torch.cuda.is_available():\n",
    "    print(f\"CUDA version: {torch.version.cuda}\")\n",
    "    print(f\"GPU count: {torch.cuda.device_count()}\")\n",
    "    for i in range(torch.cuda.device_count()):\n",
    "        print(f\"GPU {i}: {torch.cuda.get_device_name(i)}\")"
   ]
  },
  {
   "cell_type": "code",
   "execution_count": null,
   "metadata": {},
   "outputs": [],
   "source": []
  },
  {
   "cell_type": "markdown",
   "metadata": {},
   "source": [
    "## 1. Load Individual Image Detector Models\n",
    "\n",
    "We'll load all the image detector models: ViT, BEIT, DeiT, and Swin."
   ]
  },
  {
   "cell_type": "code",
   "execution_count": null,
   "metadata": {},
   "outputs": [
    {
     "ename": "ImportError",
     "evalue": "cannot import name 'AutoModelForImageClassification' from 'transformers' (c:\\Users\\chakr\\anaconda3\\Lib\\site-packages\\transformers\\__init__.py)",
     "output_type": "error",
     "traceback": [
      "\u001b[1;31m---------------------------------------------------------------------------\u001b[0m",
      "\u001b[1;31mImportError\u001b[0m                               Traceback (most recent call last)",
      "Cell \u001b[1;32mIn[13], line 2\u001b[0m\n\u001b[0;32m      1\u001b[0m \u001b[38;5;66;03m# Import image detector models\u001b[39;00m\n\u001b[1;32m----> 2\u001b[0m \u001b[38;5;28;01mfrom\u001b[39;00m \u001b[38;5;21;01mdetectors\u001b[39;00m\u001b[38;5;21;01m.\u001b[39;00m\u001b[38;5;21;01mimage_detector\u001b[39;00m\u001b[38;5;21;01m.\u001b[39;00m\u001b[38;5;21;01mvit_detector\u001b[39;00m \u001b[38;5;28;01mimport\u001b[39;00m ViTImageDetector\n\u001b[0;32m      3\u001b[0m \u001b[38;5;28;01mfrom\u001b[39;00m \u001b[38;5;21;01mdetectors\u001b[39;00m\u001b[38;5;21;01m.\u001b[39;00m\u001b[38;5;21;01mimage_detector\u001b[39;00m\u001b[38;5;21;01m.\u001b[39;00m\u001b[38;5;21;01mbeit_detector\u001b[39;00m \u001b[38;5;28;01mimport\u001b[39;00m BEITImageDetector\n\u001b[0;32m      4\u001b[0m \u001b[38;5;28;01mfrom\u001b[39;00m \u001b[38;5;21;01mdetectors\u001b[39;00m\u001b[38;5;21;01m.\u001b[39;00m\u001b[38;5;21;01mimage_detector\u001b[39;00m\u001b[38;5;21;01m.\u001b[39;00m\u001b[38;5;21;01mdeit_detector\u001b[39;00m \u001b[38;5;28;01mimport\u001b[39;00m DeiTImageDetector\n",
      "File \u001b[1;32mc:\\Users\\chakr\\Documents\\GitHub\\deepfake_detection_platform\\detectors\\image_detector\\vit_detector.py:12\u001b[0m\n\u001b[0;32m     10\u001b[0m \u001b[38;5;28;01mfrom\u001b[39;00m \u001b[38;5;21;01mPIL\u001b[39;00m \u001b[38;5;28;01mimport\u001b[39;00m Image\n\u001b[0;32m     11\u001b[0m \u001b[38;5;28;01mimport\u001b[39;00m \u001b[38;5;21;01mtorch\u001b[39;00m\u001b[38;5;21;01m.\u001b[39;00m\u001b[38;5;21;01mnn\u001b[39;00m\u001b[38;5;21;01m.\u001b[39;00m\u001b[38;5;21;01mfunctional\u001b[39;00m \u001b[38;5;28;01mas\u001b[39;00m \u001b[38;5;21;01mF\u001b[39;00m\n\u001b[1;32m---> 12\u001b[0m \u001b[38;5;28;01mfrom\u001b[39;00m \u001b[38;5;21;01mtransformers\u001b[39;00m \u001b[38;5;28;01mimport\u001b[39;00m (\n\u001b[0;32m     13\u001b[0m     ViTForImageClassification, \n\u001b[0;32m     14\u001b[0m     ViTFeatureExtractor,\n\u001b[0;32m     15\u001b[0m     BeitForImageClassification,\n\u001b[0;32m     16\u001b[0m     BeitFeatureExtractor,\n\u001b[0;32m     17\u001b[0m     SwinForImageClassification,\n\u001b[0;32m     18\u001b[0m     AutoFeatureExtractor,\n\u001b[0;32m     19\u001b[0m     AutoModelForImageClassification\n\u001b[0;32m     20\u001b[0m )\n\u001b[0;32m     21\u001b[0m \u001b[38;5;28;01mfrom\u001b[39;00m \u001b[38;5;21;01mfacenet_pytorch\u001b[39;00m \u001b[38;5;28;01mimport\u001b[39;00m MTCNN\n\u001b[0;32m     23\u001b[0m \u001b[38;5;28;01mfrom\u001b[39;00m \u001b[38;5;21;01mdetectors\u001b[39;00m\u001b[38;5;21;01m.\u001b[39;00m\u001b[38;5;21;01mbase_detector\u001b[39;00m \u001b[38;5;28;01mimport\u001b[39;00m BaseDetector\n",
      "\u001b[1;31mImportError\u001b[0m: cannot import name 'AutoModelForImageClassification' from 'transformers' (c:\\Users\\chakr\\anaconda3\\Lib\\site-packages\\transformers\\__init__.py)"
     ]
    },
    {
     "ename": "",
     "evalue": "",
     "output_type": "error",
     "traceback": [
      "\u001b[1;31mThe Kernel crashed while executing code in the current cell or a previous cell. \n",
      "\u001b[1;31mPlease review the code in the cell(s) to identify a possible cause of the failure. \n",
      "\u001b[1;31mClick <a href='https://aka.ms/vscodeJupyterKernelCrash'>here</a> for more info. \n",
      "\u001b[1;31mView Jupyter <a href='command:jupyter.viewOutput'>log</a> for further details."
     ]
    }
   ],
   "source": [
    "# Import image detector models\n",
    "from detectors.image_detector.vit_detector import ViTImageDetector\n",
    "from detectors.image_detector.beit_detector import BEITImageDetector\n",
    "from detectors.image_detector.deit_detector import DeiTImageDetector\n",
    "from detectors.image_detector.swin_detector import SwinImageDetector\n",
    "\n",
    "# Define the device to use\n",
    "device = 'cuda' if torch.cuda.is_available() else 'cpu'\n",
    "print(f\"Using device: {device}\")\n",
    "\n",
    "# Initialize the image detectors\n",
    "try:\n",
    "    print(\"Loading ViT model...\")\n",
    "    vit_detector = ViTImageDetector(model_name=\"google/vit-base-patch16-224\", \n",
    "                                  confidence_threshold=0.5,\n",
    "                                  device=device)\n",
    "    \n",
    "    print(\"Loading BEIT model...\")\n",
    "    beit_detector = BEITImageDetector(model_name=\"microsoft/beit-base-patch16-224-pt22k-ft22k\", \n",
    "                                   confidence_threshold=0.5,\n",
    "                                   device=device)\n",
    "    \n",
    "    print(\"Loading DeiT model...\")\n",
    "    deit_detector = DeiTImageDetector(model_name=\"facebook/deit-base-distilled-patch16-224\", \n",
    "                                   confidence_threshold=0.5,\n",
    "                                   device=device)\n",
    "    \n",
    "    print(\"Loading Swin model...\")\n",
    "    swin_detector = SwinImageDetector(model_name=\"microsoft/swin-base-patch4-window7-224-in22k\", \n",
    "                                   confidence_threshold=0.5,\n",
    "                                   device=device)\n",
    "    \n",
    "    print(\"All models loaded successfully!\")\n",
    "    \n",
    "except Exception as e:\n",
    "    print(f\"Error loading models: {str(e)}\")"
   ]
  },
  {
   "cell_type": "markdown",
   "metadata": {},
   "source": [
    "## 2. Test Individual Models on Sample Images\n",
    "\n",
    "We'll test each model on sample real and fake images."
   ]
  },
  {
   "cell_type": "code",
   "execution_count": null,
   "metadata": {},
   "outputs": [],
   "source": [
    "# Define test images\n",
    "real_image_path = os.path.join(project_root, 'tests', 'test_data', 'Real_Image', 'real_993.jpg')\n",
    "fake_image_path = os.path.join(project_root, 'tests', 'test_data', 'Fake_Image', 'fake_999.jpg')\n",
    "\n",
    "# Check if images exist\n",
    "if not os.path.exists(real_image_path):\n",
    "    raise FileNotFoundError(f\"Real image not found: {real_image_path}\")\n",
    "if not os.path.exists(fake_image_path):\n",
    "    raise FileNotFoundError(f\"Fake image not found: {fake_image_path}\")\n",
    "\n",
    "# Display the test images\n",
    "fig, axs = plt.subplots(1, 2, figsize=(12, 6))\n",
    "axs[0].imshow(Image.open(real_image_path))\n",
    "axs[0].set_title(\"Real Image\")\n",
    "axs[0].axis('off')\n",
    "axs[1].imshow(Image.open(fake_image_path))\n",
    "axs[1].set_title(\"Fake Image\")\n",
    "axs[1].axis('off')\n",
    "plt.tight_layout()\n",
    "plt.show()"
   ]
  },
  {
   "cell_type": "code",
   "execution_count": null,
   "metadata": {},
   "outputs": [],
   "source": [
    "# Helper function to test models on images\n",
    "def test_model(detector, image_path, image_type):\n",
    "    print(f\"Testing {detector.__class__.__name__} on {image_type} image...\")\n",
    "    try:\n",
    "        result = detector.detect(image_path)\n",
    "        is_deepfake = result['is_deepfake']\n",
    "        confidence = result['confidence']\n",
    "        correct = (is_deepfake and image_type == 'fake') or (not is_deepfake and image_type == 'real')\n",
    "        \n",
    "        print(f\"  Prediction: {'Deepfake' if is_deepfake else 'Real'}\")\n",
    "        print(f\"  Confidence: {confidence:.4f}\")\n",
    "        print(f\"  Correct: {'✓' if correct else '✗'}\")\n",
    "        \n",
    "        if 'heatmap' in result:\n",
    "            plt.figure(figsize=(8, 4))\n",
    "            plt.subplot(1, 2, 1)\n",
    "            plt.imshow(Image.open(image_path))\n",
    "            plt.title(f\"{image_type.capitalize()} Image\")\n",
    "            plt.axis('off')\n",
    "            \n",
    "            plt.subplot(1, 2, 2)\n",
    "            plt.imshow(result['heatmap'], cmap='hot')\n",
    "            plt.title(f\"Heatmap (Confidence: {confidence:.4f})\")\n",
    "            plt.axis('off')\n",
    "            plt.colorbar()\n",
    "            plt.tight_layout()\n",
    "            plt.show()\n",
    "        \n",
    "        return result, correct\n",
    "    except Exception as e:\n",
    "        print(f\"  Error: {str(e)}\")\n",
    "        return None, False"
   ]
  },
  {
   "cell_type": "code",
   "execution_count": null,
   "metadata": {},
   "outputs": [],
   "source": [
    "# Test ViT model\n",
    "vit_real_result, vit_real_correct = test_model(vit_detector, real_image_path, 'real')\n",
    "vit_fake_result, vit_fake_correct = test_model(vit_detector, fake_image_path, 'fake')"
   ]
  },
  {
   "cell_type": "code",
   "execution_count": null,
   "metadata": {},
   "outputs": [],
   "source": [
    "# Test BEIT model\n",
    "beit_real_result, beit_real_correct = test_model(beit_detector, real_image_path, 'real')\n",
    "beit_fake_result, beit_fake_correct = test_model(beit_detector, fake_image_path, 'fake')"
   ]
  },
  {
   "cell_type": "code",
   "execution_count": null,
   "metadata": {},
   "outputs": [],
   "source": [
    "# Test DeiT model\n",
    "deit_real_result, deit_real_correct = test_model(deit_detector, real_image_path, 'real')\n",
    "deit_fake_result, deit_fake_correct = test_model(deit_detector, fake_image_path, 'fake')"
   ]
  },
  {
   "cell_type": "code",
   "execution_count": null,
   "metadata": {},
   "outputs": [],
   "source": [
    "# Test Swin model\n",
    "swin_real_result, swin_real_correct = test_model(swin_detector, real_image_path, 'real')\n",
    "swin_fake_result, swin_fake_correct = test_model(swin_detector, fake_image_path, 'fake')"
   ]
  },
  {
   "cell_type": "markdown",
   "metadata": {},
   "source": [
    "## 3. Test Image Ensemble Detector\n",
    "\n",
    "Now we'll test the ensemble detector that combines all image models."
   ]
  },
  {
   "cell_type": "code",
   "execution_count": null,
   "metadata": {},
   "outputs": [],
   "source": [
    "# Import the image ensemble detector\n",
    "from detectors.image_detector.ensemble import ImageEnsembleDetector\n",
    "\n",
    "# Create the ensemble detector with all individual detectors\n",
    "detectors = [vit_detector, beit_detector, deit_detector, swin_detector]\n",
    "image_ensemble = ImageEnsembleDetector(\n",
    "    detectors=detectors,\n",
    "    weights=None,  # Use equal weights initially\n",
    "    threshold=0.5,\n",
    "    enable_singularity=False  # First test without Singularity Mode\n",
    ")\n",
    "\n",
    "print(f\"Created Image Ensemble Detector with {len(detectors)} models\")"
   ]
  },
  {
   "cell_type": "code",
   "execution_count": null,
   "metadata": {},
   "outputs": [],
   "source": [
    "# Test ensemble on real image\n",
    "print(\"Testing Image Ensemble on real image...\")\n",
    "ensemble_real_result = image_ensemble.predict(real_image_path)\n",
    "is_deepfake = ensemble_real_result['is_deepfake']\n",
    "confidence = ensemble_real_result['confidence']\n",
    "print(f\"  Prediction: {'Deepfake' if is_deepfake else 'Real'}\")\n",
    "print(f\"  Confidence: {confidence:.4f}\")\n",
    "print(f\"  Correct: {'✓' if not is_deepfake else '✗'}\")\n",
    "\n",
    "# Show individual model contributions if available\n",
    "if 'individual_results' in ensemble_real_result:\n",
    "    print(\"\\nIndividual model contributions:\")\n",
    "    for result in ensemble_real_result['individual_results']:\n",
    "        model_name = result['model']\n",
    "        confidence = result['confidence']\n",
    "        weight = result['weight']\n",
    "        print(f\"  {model_name}: Confidence = {confidence:.4f}, Weight = {weight:.2f}\")"
   ]
  },
  {
   "cell_type": "code",
   "execution_count": null,
   "metadata": {},
   "outputs": [],
   "source": [
    "# Test ensemble on fake image\n",
    "print(\"Testing Image Ensemble on fake image...\")\n",
    "ensemble_fake_result = image_ensemble.predict(fake_image_path)\n",
    "is_deepfake = ensemble_fake_result['is_deepfake']\n",
    "confidence = ensemble_fake_result['confidence']\n",
    "print(f\"  Prediction: {'Deepfake' if is_deepfake else 'Real'}\")\n",
    "print(f\"  Confidence: {confidence:.4f}\")\n",
    "print(f\"  Correct: {'✓' if is_deepfake else '✗'}\")\n",
    "\n",
    "# Show individual model contributions if available\n",
    "if 'individual_results' in ensemble_fake_result:\n",
    "    print(\"\\nIndividual model contributions:\")\n",
    "    for result in ensemble_fake_result['individual_results']:\n",
    "        model_name = result['model']\n",
    "        confidence = result['confidence']\n",
    "        weight = result['weight']\n",
    "        print(f\"  {model_name}: Confidence = {confidence:.4f}, Weight = {weight:.2f}\")"
   ]
  },
  {
   "cell_type": "markdown",
   "metadata": {},
   "source": [
    "## 4. Test Visual Sentinel Singularity Mode\n",
    "\n",
    "Now we'll test the Visual Sentinel Singularity Mode for enhanced image detection."
   ]
  },
  {
   "cell_type": "code",
   "execution_count": null,
   "metadata": {},
   "outputs": [],
   "source": [
    "# Enable Singularity Mode in the ensemble detector\n",
    "image_ensemble_with_singularity = ImageEnsembleDetector(\n",
    "    detectors=detectors,\n",
    "    weights=None,\n",
    "    threshold=0.5,\n",
    "    enable_singularity=True  # Enable Singularity Mode\n",
    ")\n",
    "\n",
    "print(\"Created Image Ensemble Detector with Visual Sentinel Singularity Mode enabled\")"
   ]
  },
  {
   "cell_type": "code",
   "execution_count": null,
   "metadata": {},
   "outputs": [],
   "source": [
    "# Test Singularity Mode on real image\n",
    "print(\"Testing Visual Sentinel on real image...\")\n",
    "try:\n",
    "    singularity_real_result = image_ensemble_with_singularity.predict(real_image_path)\n",
    "    is_deepfake = singularity_real_result['is_deepfake']\n",
    "    confidence = singularity_real_result['confidence']\n",
    "    print(f\"  Prediction: {'Deepfake' if is_deepfake else 'Real'}\")\n",
    "    print(f\"  Confidence: {confidence:.4f}\")\n",
    "    print(f\"  Correct: {'✓' if not is_deepfake else '✗'}\")\n",
    "    \n",
    "    # Show Singularity Mode information if available\n",
    "    if 'singularity_mode' in singularity_real_result:\n",
    "        sm_info = singularity_real_result['singularity_mode']\n",
    "        print(\"\\nSingularity Mode information:\")\n",
    "        for key, value in sm_info.items():\n",
    "            if key != 'adaptive_weights':  # Weights would be too verbose\n",
    "                print(f\"  {key}: {value}\")\n",
    "        \n",
    "        if 'adaptive_weights' in sm_info:\n",
    "            print(\"  Adaptive weights:\")\n",
    "            for model, weight in sm_info['adaptive_weights'].items():\n",
    "                print(f\"    {model}: {weight:.4f}\")\n",
    "                \n",
    "    # Display enhanced heatmap if available\n",
    "    if 'heatmap' in singularity_real_result:\n",
    "        plt.figure(figsize=(10, 5))\n",
    "        plt.subplot(1, 2, 1)\n",
    "        plt.imshow(Image.open(real_image_path))\n",
    "        plt.title(\"Real Image\")\n",
    "        plt.axis('off')\n",
    "        \n",
    "        plt.subplot(1, 2, 2)\n",
    "        plt.imshow(singularity_real_result['heatmap'], cmap='hot')\n",
    "        plt.title(f\"Enhanced Heatmap (Confidence: {confidence:.4f})\")\n",
    "        plt.axis('off')\n",
    "        plt.colorbar()\n",
    "        plt.tight_layout()\n",
    "        plt.show()\n",
    "        \n",
    "except Exception as e:\n",
    "    print(f\"Error testing Visual Sentinel: {str(e)}\")"
   ]
  },
  {
   "cell_type": "code",
   "execution_count": null,
   "metadata": {},
   "outputs": [],
   "source": [
    "# Test Singularity Mode on fake image\n",
    "print(\"Testing Visual Sentinel on fake image...\")\n",
    "try:\n",
    "    singularity_fake_result = image_ensemble_with_singularity.predict(fake_image_path)\n",
    "    is_deepfake = singularity_fake_result['is_deepfake']\n",
    "    confidence = singularity_fake_result['confidence']\n",
    "    print(f\"  Prediction: {'Deepfake' if is_deepfake else 'Real'}\")\n",
    "    print(f\"  Confidence: {confidence:.4f}\")\n",
    "    print(f\"  Correct: {'✓' if is_deepfake else '✗'}\")\n",
    "    \n",
    "    # Show Singularity Mode information if available\n",
    "    if 'singularity_mode' in singularity_fake_result:\n",
    "        sm_info = singularity_fake_result['singularity_mode']\n",
    "        print(\"\\nSingularity Mode information:\")\n",
    "        for key, value in sm_info.items():\n",
    "            if key != 'adaptive_weights':  # Weights would be too verbose\n",
    "                print(f\"  {key}: {value}\")\n",
    "        \n",
    "        if 'adaptive_weights' in sm_info:\n",
    "            print(\"  Adaptive weights:\")\n",
    "            for model, weight in sm_info['adaptive_weights'].items():\n",
    "                print(f\"    {model}: {weight:.4f}\")\n",
    "                \n",
    "    # Display enhanced heatmap if available\n",
    "    if 'heatmap' in singularity_fake_result:\n",
    "        plt.figure(figsize=(10, 5))\n",
    "        plt.subplot(1, 2, 1)\n",
    "        plt.imshow(Image.open(fake_image_path))\n",
    "        plt.title(\"Fake Image\")\n",
    "        plt.axis('off')\n",
    "        \n",
    "        plt.subplot(1, 2, 2)\n",
    "        plt.imshow(singularity_fake_result['heatmap'], cmap='hot')\n",
    "        plt.title(f\"Enhanced Heatmap (Confidence: {confidence:.4f})\")\n",
    "        plt.axis('off')\n",
    "        plt.colorbar()\n",
    "        plt.tight_layout()\n",
    "        plt.show()\n",
    "        \n",
    "except Exception as e:\n",
    "    print(f\"Error testing Visual Sentinel: {str(e)}\")"
   ]
  },
  {
   "cell_type": "markdown",
   "metadata": {},
   "source": [
    "## 5. Performance Comparison\n",
    "\n",
    "Compare the performance of individual models vs. ensemble vs. Singularity Mode."
   ]
  },
  {
   "cell_type": "code",
   "execution_count": null,
   "metadata": {},
   "outputs": [],
   "source": [
    "# Collect all confidence scores\n",
    "real_image_confidences = {\n",
    "    'ViT': vit_real_result['confidence'] if vit_real_result else 0,\n",
    "    'BEIT': beit_real_result['confidence'] if beit_real_result else 0,\n",
    "    'DeiT': deit_real_result['confidence'] if deit_real_result else 0,\n",
    "    'Swin': swin_real_result['confidence'] if swin_real_result else 0,\n",
    "    'Ensemble': ensemble_real_result['confidence'],\n",
    "    'Visual Sentinel': singularity_real_result['confidence']\n",
    "}\n",
    "\n",
    "fake_image_confidences = {\n",
    "    'ViT': vit_fake_result['confidence'] if vit_fake_result else 0,\n",
    "    'BEIT': beit_fake_result['confidence'] if beit_fake_result else 0,\n",
    "    'DeiT': deit_fake_result['confidence'] if deit_fake_result else 0,\n",
    "    'Swin': swin_fake_result['confidence'] if swin_fake_result else 0,\n",
    "    'Ensemble': ensemble_fake_result['confidence'],\n",
    "    'Visual Sentinel': singularity_fake_result['confidence']\n",
    "}\n",
    "\n",
    "# Plot comparison\n",
    "fig, axes = plt.subplots(1, 2, figsize=(15, 6))\n",
    "\n",
    "# Real image confidences\n",
    "models = list(real_image_confidences.keys())\n",
    "confidences = list(real_image_confidences.values())\n",
    "axes[0].bar(models, confidences, color=['blue', 'blue', 'blue', 'blue', 'green', 'red'])\n",
    "axes[0].set_title('Real Image Confidence Scores')\n",
    "axes[0].set_xlabel('Model')\n",
    "axes[0].set_ylabel('Confidence (lower is better for real)')\n",
    "axes[0].set_ylim(0, 1)\n",
    "axes[0].axhline(y=0.5, color='r', linestyle='--')\n",
    "axes[0].set_xticklabels(models, rotation=45)\n",
    "\n",
    "# Fake image confidences\n",
    "models = list(fake_image_confidences.keys())\n",
    "confidences = list(fake_image_confidences.values())\n",
    "axes[1].bar(models, confidences, color=['blue', 'blue', 'blue', 'blue', 'green', 'red'])\n",
    "axes[1].set_title('Fake Image Confidence Scores')\n",
    "axes[1].set_xlabel('Model')\n",
    "axes[1].set_ylabel('Confidence (higher is better for fake)')\n",
    "axes[1].set_ylim(0, 1)\n",
    "axes[1].axhline(y=0.5, color='r', linestyle='--')\n",
    "axes[1].set_xticklabels(models, rotation=45)\n",
    "\n",
    "plt.tight_layout()\n",
    "plt.show()"
   ]
  },
  {
   "cell_type": "markdown",
   "metadata": {},
   "source": [
    "## 6. Conclusion\n",
    "\n",
    "Summarize the test results and performance of the image detection models and Singularity Mode."
   ]
  },
  {
   "cell_type": "code",
   "execution_count": null,
   "metadata": {},
   "outputs": [],
   "source": [
    "# Calculate accuracy and improvement\n",
    "# For real image (lower confidence is better)\n",
    "real_image_improvement = max(0, np.mean([v for k, v in real_image_confidences.items() if k not in ['Ensemble', 'Visual Sentinel']]) - real_image_confidences['Visual Sentinel'])\n",
    "\n",
    "# For fake image (higher confidence is better)\n",
    "fake_image_improvement = max(0, fake_image_confidences['Visual Sentinel'] - np.mean([v for k, v in fake_image_confidences.items() if k not in ['Ensemble', 'Visual Sentinel']]))\n",
    "\n",
    "print(\"Test Results Summary:\")\n",
    "print(f\"Visual Sentinel performance improvement on real image: {real_image_improvement:.4f} (lower confidence is better)\")\n",
    "print(f\"Visual Sentinel performance improvement on fake image: {fake_image_improvement:.4f} (higher confidence is better)\")\n",
    "print(f\"Average improvement: {(real_image_improvement + fake_image_improvement) / 2:.4f}\")"
   ]
  }
 ],
 "metadata": {
  "kernelspec": {
   "display_name": "base",
   "language": "python",
   "name": "python3"
  },
  "language_info": {
   "codemirror_mode": {
    "name": "ipython",
    "version": 3
   },
   "file_extension": ".py",
   "mimetype": "text/x-python",
   "name": "python",
   "nbconvert_exporter": "python",
   "pygments_lexer": "ipython3",
   "version": "3.11.5"
  }
 },
 "nbformat": 4,
 "nbformat_minor": 4
}
